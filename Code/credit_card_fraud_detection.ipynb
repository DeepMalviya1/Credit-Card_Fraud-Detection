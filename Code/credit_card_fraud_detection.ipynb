{
  "cells": [
    {
      "cell_type": "markdown",
      "source": [
        "![CC.jpg](data:image/jpeg;base64,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)"
      ],
      "metadata": {
        "id": "mfgLF4FJw7_I"
      },
      "id": "mfgLF4FJw7_I"
    },
    {
      "cell_type": "markdown",
      "id": "a09305b4",
      "metadata": {
        "papermill": {
          "duration": 0.010593,
          "end_time": "2022-08-16T21:54:22.790446",
          "exception": false,
          "start_time": "2022-08-16T21:54:22.779853",
          "status": "completed"
        },
        "tags": [],
        "id": "a09305b4"
      },
      "source": [
        "# Importing Libraries and Dataset"
      ]
    },
    {
      "cell_type": "code",
      "execution_count": 1,
      "id": "04e5e983",
      "metadata": {
        "_cell_guid": "b1076dfc-b9ad-4769-8c92-a6c4dae69d19",
        "_uuid": "8f2839f25d086af736a60e9eeb907d3b93b6e0e5",
        "execution": {
          "iopub.execute_input": "2022-08-16T21:54:22.814794Z",
          "iopub.status.busy": "2022-08-16T21:54:22.813554Z",
          "iopub.status.idle": "2022-08-16T21:54:24.049404Z",
          "shell.execute_reply": "2022-08-16T21:54:24.048113Z"
        },
        "papermill": {
          "duration": 1.249578,
          "end_time": "2022-08-16T21:54:24.052794",
          "exception": false,
          "start_time": "2022-08-16T21:54:22.803216",
          "status": "completed"
        },
        "tags": [],
        "id": "04e5e983"
      },
      "outputs": [],
      "source": [
        "# This Python 3 environment comes with many helpful analytics libraries installed\n",
        "# It is defined by the kaggle/python Docker image: https://github.com/kaggle/docker-python\n",
        "# For example, here's several helpful packages to load\n",
        "\n",
        "import numpy as np # linear algebra\n",
        "import pandas as pd # data processing, CSV file I/O (e.g. pd.read_csv)\n",
        "import seaborn as sns\n",
        "import matplotlib.pyplot as plt\n",
        "sns.set_style('whitegrid')"
      ]
    },
    {
      "cell_type": "code",
      "execution_count": 2,
      "id": "d61cce5b",
      "metadata": {
        "execution": {
          "iopub.execute_input": "2022-08-16T21:54:24.071268Z",
          "iopub.status.busy": "2022-08-16T21:54:24.070839Z",
          "iopub.status.idle": "2022-08-16T21:54:28.613449Z",
          "shell.execute_reply": "2022-08-16T21:54:28.612154Z"
        },
        "papermill": {
          "duration": 4.555768,
          "end_time": "2022-08-16T21:54:28.617148",
          "exception": false,
          "start_time": "2022-08-16T21:54:24.061380",
          "status": "completed"
        },
        "tags": [],
        "id": "d61cce5b"
      },
      "outputs": [],
      "source": [
        "data = pd.read_csv('Path')"
      ]
    },
    {
      "cell_type": "markdown",
      "id": "abcd7bb3",
      "metadata": {
        "papermill": {
          "duration": 0.008737,
          "end_time": "2022-08-16T21:54:28.634201",
          "exception": false,
          "start_time": "2022-08-16T21:54:28.625464",
          "status": "completed"
        },
        "tags": [],
        "id": "abcd7bb3"
      },
      "source": [
        "# Data Observation"
      ]
    },
    {
      "cell_type": "code",
      "execution_count": 3,
      "id": "df9f220b",
      "metadata": {
        "execution": {
          "iopub.execute_input": "2022-08-16T21:54:28.652143Z",
          "iopub.status.busy": "2022-08-16T21:54:28.651703Z",
          "iopub.status.idle": "2022-08-16T21:54:28.695738Z",
          "shell.execute_reply": "2022-08-16T21:54:28.694517Z"
        },
        "papermill": {
          "duration": 0.056208,
          "end_time": "2022-08-16T21:54:28.698450",
          "exception": false,
          "start_time": "2022-08-16T21:54:28.642242",
          "status": "completed"
        },
        "tags": [],
        "colab": {
          "base_uri": "https://localhost:8080/",
          "height": 299
        },
        "id": "df9f220b",
        "outputId": "7f91dac5-dd0b-4695-9374-8a60725af266"
      },
      "outputs": [
        {
          "output_type": "execute_result",
          "data": {
            "text/plain": [
              "   Time        V1        V2        V3        V4        V5        V6        V7  \\\n",
              "0   0.0 -1.359807 -0.072781  2.536347  1.378155 -0.338321  0.462388  0.239599   \n",
              "1   0.0  1.191857  0.266151  0.166480  0.448154  0.060018 -0.082361 -0.078803   \n",
              "2   1.0 -1.358354 -1.340163  1.773209  0.379780 -0.503198  1.800499  0.791461   \n",
              "3   1.0 -0.966272 -0.185226  1.792993 -0.863291 -0.010309  1.247203  0.237609   \n",
              "4   2.0 -1.158233  0.877737  1.548718  0.403034 -0.407193  0.095921  0.592941   \n",
              "\n",
              "         V8        V9  ...       V21       V22       V23       V24       V25  \\\n",
              "0  0.098698  0.363787  ... -0.018307  0.277838 -0.110474  0.066928  0.128539   \n",
              "1  0.085102 -0.255425  ... -0.225775 -0.638672  0.101288 -0.339846  0.167170   \n",
              "2  0.247676 -1.514654  ...  0.247998  0.771679  0.909412 -0.689281 -0.327642   \n",
              "3  0.377436 -1.387024  ... -0.108300  0.005274 -0.190321 -1.175575  0.647376   \n",
              "4 -0.270533  0.817739  ... -0.009431  0.798278 -0.137458  0.141267 -0.206010   \n",
              "\n",
              "        V26       V27       V28  Amount  Class  \n",
              "0 -0.189115  0.133558 -0.021053  149.62      0  \n",
              "1  0.125895 -0.008983  0.014724    2.69      0  \n",
              "2 -0.139097 -0.055353 -0.059752  378.66      0  \n",
              "3 -0.221929  0.062723  0.061458  123.50      0  \n",
              "4  0.502292  0.219422  0.215153   69.99      0  \n",
              "\n",
              "[5 rows x 31 columns]"
            ],
            "text/html": [
              "\n",
              "  <div id=\"df-7babce2f-cb9b-450c-a917-79e2b68ca93c\">\n",
              "    <div class=\"colab-df-container\">\n",
              "      <div>\n",
              "<style scoped>\n",
              "    .dataframe tbody tr th:only-of-type {\n",
              "        vertical-align: middle;\n",
              "    }\n",
              "\n",
              "    .dataframe tbody tr th {\n",
              "        vertical-align: top;\n",
              "    }\n",
              "\n",
              "    .dataframe thead th {\n",
              "        text-align: right;\n",
              "    }\n",
              "</style>\n",
              "<table border=\"1\" class=\"dataframe\">\n",
              "  <thead>\n",
              "    <tr style=\"text-align: right;\">\n",
              "      <th></th>\n",
              "      <th>Time</th>\n",
              "      <th>V1</th>\n",
              "      <th>V2</th>\n",
              "      <th>V3</th>\n",
              "      <th>V4</th>\n",
              "      <th>V5</th>\n",
              "      <th>V6</th>\n",
              "      <th>V7</th>\n",
              "      <th>V8</th>\n",
              "      <th>V9</th>\n",
              "      <th>...</th>\n",
              "      <th>V21</th>\n",
              "      <th>V22</th>\n",
              "      <th>V23</th>\n",
              "      <th>V24</th>\n",
              "      <th>V25</th>\n",
              "      <th>V26</th>\n",
              "      <th>V27</th>\n",
              "      <th>V28</th>\n",
              "      <th>Amount</th>\n",
              "      <th>Class</th>\n",
              "    </tr>\n",
              "  </thead>\n",
              "  <tbody>\n",
              "    <tr>\n",
              "      <th>0</th>\n",
              "      <td>0.0</td>\n",
              "      <td>-1.359807</td>\n",
              "      <td>-0.072781</td>\n",
              "      <td>2.536347</td>\n",
              "      <td>1.378155</td>\n",
              "      <td>-0.338321</td>\n",
              "      <td>0.462388</td>\n",
              "      <td>0.239599</td>\n",
              "      <td>0.098698</td>\n",
              "      <td>0.363787</td>\n",
              "      <td>...</td>\n",
              "      <td>-0.018307</td>\n",
              "      <td>0.277838</td>\n",
              "      <td>-0.110474</td>\n",
              "      <td>0.066928</td>\n",
              "      <td>0.128539</td>\n",
              "      <td>-0.189115</td>\n",
              "      <td>0.133558</td>\n",
              "      <td>-0.021053</td>\n",
              "      <td>149.62</td>\n",
              "      <td>0</td>\n",
              "    </tr>\n",
              "    <tr>\n",
              "      <th>1</th>\n",
              "      <td>0.0</td>\n",
              "      <td>1.191857</td>\n",
              "      <td>0.266151</td>\n",
              "      <td>0.166480</td>\n",
              "      <td>0.448154</td>\n",
              "      <td>0.060018</td>\n",
              "      <td>-0.082361</td>\n",
              "      <td>-0.078803</td>\n",
              "      <td>0.085102</td>\n",
              "      <td>-0.255425</td>\n",
              "      <td>...</td>\n",
              "      <td>-0.225775</td>\n",
              "      <td>-0.638672</td>\n",
              "      <td>0.101288</td>\n",
              "      <td>-0.339846</td>\n",
              "      <td>0.167170</td>\n",
              "      <td>0.125895</td>\n",
              "      <td>-0.008983</td>\n",
              "      <td>0.014724</td>\n",
              "      <td>2.69</td>\n",
              "      <td>0</td>\n",
              "    </tr>\n",
              "    <tr>\n",
              "      <th>2</th>\n",
              "      <td>1.0</td>\n",
              "      <td>-1.358354</td>\n",
              "      <td>-1.340163</td>\n",
              "      <td>1.773209</td>\n",
              "      <td>0.379780</td>\n",
              "      <td>-0.503198</td>\n",
              "      <td>1.800499</td>\n",
              "      <td>0.791461</td>\n",
              "      <td>0.247676</td>\n",
              "      <td>-1.514654</td>\n",
              "      <td>...</td>\n",
              "      <td>0.247998</td>\n",
              "      <td>0.771679</td>\n",
              "      <td>0.909412</td>\n",
              "      <td>-0.689281</td>\n",
              "      <td>-0.327642</td>\n",
              "      <td>-0.139097</td>\n",
              "      <td>-0.055353</td>\n",
              "      <td>-0.059752</td>\n",
              "      <td>378.66</td>\n",
              "      <td>0</td>\n",
              "    </tr>\n",
              "    <tr>\n",
              "      <th>3</th>\n",
              "      <td>1.0</td>\n",
              "      <td>-0.966272</td>\n",
              "      <td>-0.185226</td>\n",
              "      <td>1.792993</td>\n",
              "      <td>-0.863291</td>\n",
              "      <td>-0.010309</td>\n",
              "      <td>1.247203</td>\n",
              "      <td>0.237609</td>\n",
              "      <td>0.377436</td>\n",
              "      <td>-1.387024</td>\n",
              "      <td>...</td>\n",
              "      <td>-0.108300</td>\n",
              "      <td>0.005274</td>\n",
              "      <td>-0.190321</td>\n",
              "      <td>-1.175575</td>\n",
              "      <td>0.647376</td>\n",
              "      <td>-0.221929</td>\n",
              "      <td>0.062723</td>\n",
              "      <td>0.061458</td>\n",
              "      <td>123.50</td>\n",
              "      <td>0</td>\n",
              "    </tr>\n",
              "    <tr>\n",
              "      <th>4</th>\n",
              "      <td>2.0</td>\n",
              "      <td>-1.158233</td>\n",
              "      <td>0.877737</td>\n",
              "      <td>1.548718</td>\n",
              "      <td>0.403034</td>\n",
              "      <td>-0.407193</td>\n",
              "      <td>0.095921</td>\n",
              "      <td>0.592941</td>\n",
              "      <td>-0.270533</td>\n",
              "      <td>0.817739</td>\n",
              "      <td>...</td>\n",
              "      <td>-0.009431</td>\n",
              "      <td>0.798278</td>\n",
              "      <td>-0.137458</td>\n",
              "      <td>0.141267</td>\n",
              "      <td>-0.206010</td>\n",
              "      <td>0.502292</td>\n",
              "      <td>0.219422</td>\n",
              "      <td>0.215153</td>\n",
              "      <td>69.99</td>\n",
              "      <td>0</td>\n",
              "    </tr>\n",
              "  </tbody>\n",
              "</table>\n",
              "<p>5 rows × 31 columns</p>\n",
              "</div>\n",
              "      <button class=\"colab-df-convert\" onclick=\"convertToInteractive('df-7babce2f-cb9b-450c-a917-79e2b68ca93c')\"\n",
              "              title=\"Convert this dataframe to an interactive table.\"\n",
              "              style=\"display:none;\">\n",
              "        \n",
              "  <svg xmlns=\"http://www.w3.org/2000/svg\" height=\"24px\"viewBox=\"0 0 24 24\"\n",
              "       width=\"24px\">\n",
              "    <path d=\"M0 0h24v24H0V0z\" fill=\"none\"/>\n",
              "    <path d=\"M18.56 5.44l.94 2.06.94-2.06 2.06-.94-2.06-.94-.94-2.06-.94 2.06-2.06.94zm-11 1L8.5 8.5l.94-2.06 2.06-.94-2.06-.94L8.5 2.5l-.94 2.06-2.06.94zm10 10l.94 2.06.94-2.06 2.06-.94-2.06-.94-.94-2.06-.94 2.06-2.06.94z\"/><path d=\"M17.41 7.96l-1.37-1.37c-.4-.4-.92-.59-1.43-.59-.52 0-1.04.2-1.43.59L10.3 9.45l-7.72 7.72c-.78.78-.78 2.05 0 2.83L4 21.41c.39.39.9.59 1.41.59.51 0 1.02-.2 1.41-.59l7.78-7.78 2.81-2.81c.8-.78.8-2.07 0-2.86zM5.41 20L4 18.59l7.72-7.72 1.47 1.35L5.41 20z\"/>\n",
              "  </svg>\n",
              "      </button>\n",
              "      \n",
              "  <style>\n",
              "    .colab-df-container {\n",
              "      display:flex;\n",
              "      flex-wrap:wrap;\n",
              "      gap: 12px;\n",
              "    }\n",
              "\n",
              "    .colab-df-convert {\n",
              "      background-color: #E8F0FE;\n",
              "      border: none;\n",
              "      border-radius: 50%;\n",
              "      cursor: pointer;\n",
              "      display: none;\n",
              "      fill: #1967D2;\n",
              "      height: 32px;\n",
              "      padding: 0 0 0 0;\n",
              "      width: 32px;\n",
              "    }\n",
              "\n",
              "    .colab-df-convert:hover {\n",
              "      background-color: #E2EBFA;\n",
              "      box-shadow: 0px 1px 2px rgba(60, 64, 67, 0.3), 0px 1px 3px 1px rgba(60, 64, 67, 0.15);\n",
              "      fill: #174EA6;\n",
              "    }\n",
              "\n",
              "    [theme=dark] .colab-df-convert {\n",
              "      background-color: #3B4455;\n",
              "      fill: #D2E3FC;\n",
              "    }\n",
              "\n",
              "    [theme=dark] .colab-df-convert:hover {\n",
              "      background-color: #434B5C;\n",
              "      box-shadow: 0px 1px 3px 1px rgba(0, 0, 0, 0.15);\n",
              "      filter: drop-shadow(0px 1px 2px rgba(0, 0, 0, 0.3));\n",
              "      fill: #FFFFFF;\n",
              "    }\n",
              "  </style>\n",
              "\n",
              "      <script>\n",
              "        const buttonEl =\n",
              "          document.querySelector('#df-7babce2f-cb9b-450c-a917-79e2b68ca93c button.colab-df-convert');\n",
              "        buttonEl.style.display =\n",
              "          google.colab.kernel.accessAllowed ? 'block' : 'none';\n",
              "\n",
              "        async function convertToInteractive(key) {\n",
              "          const element = document.querySelector('#df-7babce2f-cb9b-450c-a917-79e2b68ca93c');\n",
              "          const dataTable =\n",
              "            await google.colab.kernel.invokeFunction('convertToInteractive',\n",
              "                                                     [key], {});\n",
              "          if (!dataTable) return;\n",
              "\n",
              "          const docLinkHtml = 'Like what you see? Visit the ' +\n",
              "            '<a target=\"_blank\" href=https://colab.research.google.com/notebooks/data_table.ipynb>data table notebook</a>'\n",
              "            + ' to learn more about interactive tables.';\n",
              "          element.innerHTML = '';\n",
              "          dataTable['output_type'] = 'display_data';\n",
              "          await google.colab.output.renderOutput(dataTable, element);\n",
              "          const docLink = document.createElement('div');\n",
              "          docLink.innerHTML = docLinkHtml;\n",
              "          element.appendChild(docLink);\n",
              "        }\n",
              "      </script>\n",
              "    </div>\n",
              "  </div>\n",
              "  "
            ]
          },
          "metadata": {},
          "execution_count": 3
        }
      ],
      "source": [
        "data.head()"
      ]
    },
    {
      "cell_type": "code",
      "execution_count": 4,
      "id": "cf433d47",
      "metadata": {
        "execution": {
          "iopub.execute_input": "2022-08-16T21:54:28.717442Z",
          "iopub.status.busy": "2022-08-16T21:54:28.716372Z",
          "iopub.status.idle": "2022-08-16T21:54:28.762836Z",
          "shell.execute_reply": "2022-08-16T21:54:28.761564Z"
        },
        "papermill": {
          "duration": 0.059062,
          "end_time": "2022-08-16T21:54:28.765823",
          "exception": false,
          "start_time": "2022-08-16T21:54:28.706761",
          "status": "completed"
        },
        "tags": [],
        "colab": {
          "base_uri": "https://localhost:8080/"
        },
        "id": "cf433d47",
        "outputId": "2eeae92c-9419-4014-d498-12a11e4ca72a"
      },
      "outputs": [
        {
          "output_type": "stream",
          "name": "stdout",
          "text": [
            "<class 'pandas.core.frame.DataFrame'>\n",
            "RangeIndex: 284807 entries, 0 to 284806\n",
            "Data columns (total 31 columns):\n",
            " #   Column  Non-Null Count   Dtype  \n",
            "---  ------  --------------   -----  \n",
            " 0   Time    284807 non-null  float64\n",
            " 1   V1      284807 non-null  float64\n",
            " 2   V2      284807 non-null  float64\n",
            " 3   V3      284807 non-null  float64\n",
            " 4   V4      284807 non-null  float64\n",
            " 5   V5      284807 non-null  float64\n",
            " 6   V6      284807 non-null  float64\n",
            " 7   V7      284807 non-null  float64\n",
            " 8   V8      284807 non-null  float64\n",
            " 9   V9      284807 non-null  float64\n",
            " 10  V10     284807 non-null  float64\n",
            " 11  V11     284807 non-null  float64\n",
            " 12  V12     284807 non-null  float64\n",
            " 13  V13     284807 non-null  float64\n",
            " 14  V14     284807 non-null  float64\n",
            " 15  V15     284807 non-null  float64\n",
            " 16  V16     284807 non-null  float64\n",
            " 17  V17     284807 non-null  float64\n",
            " 18  V18     284807 non-null  float64\n",
            " 19  V19     284807 non-null  float64\n",
            " 20  V20     284807 non-null  float64\n",
            " 21  V21     284807 non-null  float64\n",
            " 22  V22     284807 non-null  float64\n",
            " 23  V23     284807 non-null  float64\n",
            " 24  V24     284807 non-null  float64\n",
            " 25  V25     284807 non-null  float64\n",
            " 26  V26     284807 non-null  float64\n",
            " 27  V27     284807 non-null  float64\n",
            " 28  V28     284807 non-null  float64\n",
            " 29  Amount  284807 non-null  float64\n",
            " 30  Class   284807 non-null  int64  \n",
            "dtypes: float64(30), int64(1)\n",
            "memory usage: 67.4 MB\n"
          ]
        }
      ],
      "source": [
        "data.info()"
      ]
    },
    {
      "cell_type": "code",
      "execution_count": 5,
      "id": "4ea9eb11",
      "metadata": {
        "execution": {
          "iopub.execute_input": "2022-08-16T21:54:28.785128Z",
          "iopub.status.busy": "2022-08-16T21:54:28.784018Z",
          "iopub.status.idle": "2022-08-16T21:54:29.278270Z",
          "shell.execute_reply": "2022-08-16T21:54:29.276869Z"
        },
        "papermill": {
          "duration": 0.50713,
          "end_time": "2022-08-16T21:54:29.281319",
          "exception": false,
          "start_time": "2022-08-16T21:54:28.774189",
          "status": "completed"
        },
        "tags": [],
        "colab": {
          "base_uri": "https://localhost:8080/",
          "height": 394
        },
        "id": "4ea9eb11",
        "outputId": "b852b7b6-7799-4fd2-a0e3-f343f111aeba"
      },
      "outputs": [
        {
          "output_type": "execute_result",
          "data": {
            "text/plain": [
              "                Time            V1            V2            V3            V4  \\\n",
              "count  284807.000000  2.848070e+05  2.848070e+05  2.848070e+05  2.848070e+05   \n",
              "mean    94813.859575  1.168375e-15  3.416908e-16 -1.379537e-15  2.074095e-15   \n",
              "std     47488.145955  1.958696e+00  1.651309e+00  1.516255e+00  1.415869e+00   \n",
              "min         0.000000 -5.640751e+01 -7.271573e+01 -4.832559e+01 -5.683171e+00   \n",
              "25%     54201.500000 -9.203734e-01 -5.985499e-01 -8.903648e-01 -8.486401e-01   \n",
              "50%     84692.000000  1.810880e-02  6.548556e-02  1.798463e-01 -1.984653e-02   \n",
              "75%    139320.500000  1.315642e+00  8.037239e-01  1.027196e+00  7.433413e-01   \n",
              "max    172792.000000  2.454930e+00  2.205773e+01  9.382558e+00  1.687534e+01   \n",
              "\n",
              "                 V5            V6            V7            V8            V9  \\\n",
              "count  2.848070e+05  2.848070e+05  2.848070e+05  2.848070e+05  2.848070e+05   \n",
              "mean   9.604066e-16  1.487313e-15 -5.556467e-16  1.213481e-16 -2.406331e-15   \n",
              "std    1.380247e+00  1.332271e+00  1.237094e+00  1.194353e+00  1.098632e+00   \n",
              "min   -1.137433e+02 -2.616051e+01 -4.355724e+01 -7.321672e+01 -1.343407e+01   \n",
              "25%   -6.915971e-01 -7.682956e-01 -5.540759e-01 -2.086297e-01 -6.430976e-01   \n",
              "50%   -5.433583e-02 -2.741871e-01  4.010308e-02  2.235804e-02 -5.142873e-02   \n",
              "75%    6.119264e-01  3.985649e-01  5.704361e-01  3.273459e-01  5.971390e-01   \n",
              "max    3.480167e+01  7.330163e+01  1.205895e+02  2.000721e+01  1.559499e+01   \n",
              "\n",
              "       ...           V21           V22           V23           V24  \\\n",
              "count  ...  2.848070e+05  2.848070e+05  2.848070e+05  2.848070e+05   \n",
              "mean   ...  1.654067e-16 -3.568593e-16  2.578648e-16  4.473266e-15   \n",
              "std    ...  7.345240e-01  7.257016e-01  6.244603e-01  6.056471e-01   \n",
              "min    ... -3.483038e+01 -1.093314e+01 -4.480774e+01 -2.836627e+00   \n",
              "25%    ... -2.283949e-01 -5.423504e-01 -1.618463e-01 -3.545861e-01   \n",
              "50%    ... -2.945017e-02  6.781943e-03 -1.119293e-02  4.097606e-02   \n",
              "75%    ...  1.863772e-01  5.285536e-01  1.476421e-01  4.395266e-01   \n",
              "max    ...  2.720284e+01  1.050309e+01  2.252841e+01  4.584549e+00   \n",
              "\n",
              "                V25           V26           V27           V28         Amount  \\\n",
              "count  2.848070e+05  2.848070e+05  2.848070e+05  2.848070e+05  284807.000000   \n",
              "mean   5.340915e-16  1.683437e-15 -3.660091e-16 -1.227390e-16      88.349619   \n",
              "std    5.212781e-01  4.822270e-01  4.036325e-01  3.300833e-01     250.120109   \n",
              "min   -1.029540e+01 -2.604551e+00 -2.256568e+01 -1.543008e+01       0.000000   \n",
              "25%   -3.171451e-01 -3.269839e-01 -7.083953e-02 -5.295979e-02       5.600000   \n",
              "50%    1.659350e-02 -5.213911e-02  1.342146e-03  1.124383e-02      22.000000   \n",
              "75%    3.507156e-01  2.409522e-01  9.104512e-02  7.827995e-02      77.165000   \n",
              "max    7.519589e+00  3.517346e+00  3.161220e+01  3.384781e+01   25691.160000   \n",
              "\n",
              "               Class  \n",
              "count  284807.000000  \n",
              "mean        0.001727  \n",
              "std         0.041527  \n",
              "min         0.000000  \n",
              "25%         0.000000  \n",
              "50%         0.000000  \n",
              "75%         0.000000  \n",
              "max         1.000000  \n",
              "\n",
              "[8 rows x 31 columns]"
            ],
            "text/html": [
              "\n",
              "  <div id=\"df-6dd9e47d-685e-45c6-8734-d611e7ce4665\">\n",
              "    <div class=\"colab-df-container\">\n",
              "      <div>\n",
              "<style scoped>\n",
              "    .dataframe tbody tr th:only-of-type {\n",
              "        vertical-align: middle;\n",
              "    }\n",
              "\n",
              "    .dataframe tbody tr th {\n",
              "        vertical-align: top;\n",
              "    }\n",
              "\n",
              "    .dataframe thead th {\n",
              "        text-align: right;\n",
              "    }\n",
              "</style>\n",
              "<table border=\"1\" class=\"dataframe\">\n",
              "  <thead>\n",
              "    <tr style=\"text-align: right;\">\n",
              "      <th></th>\n",
              "      <th>Time</th>\n",
              "      <th>V1</th>\n",
              "      <th>V2</th>\n",
              "      <th>V3</th>\n",
              "      <th>V4</th>\n",
              "      <th>V5</th>\n",
              "      <th>V6</th>\n",
              "      <th>V7</th>\n",
              "      <th>V8</th>\n",
              "      <th>V9</th>\n",
              "      <th>...</th>\n",
              "      <th>V21</th>\n",
              "      <th>V22</th>\n",
              "      <th>V23</th>\n",
              "      <th>V24</th>\n",
              "      <th>V25</th>\n",
              "      <th>V26</th>\n",
              "      <th>V27</th>\n",
              "      <th>V28</th>\n",
              "      <th>Amount</th>\n",
              "      <th>Class</th>\n",
              "    </tr>\n",
              "  </thead>\n",
              "  <tbody>\n",
              "    <tr>\n",
              "      <th>count</th>\n",
              "      <td>284807.000000</td>\n",
              "      <td>2.848070e+05</td>\n",
              "      <td>2.848070e+05</td>\n",
              "      <td>2.848070e+05</td>\n",
              "      <td>2.848070e+05</td>\n",
              "      <td>2.848070e+05</td>\n",
              "      <td>2.848070e+05</td>\n",
              "      <td>2.848070e+05</td>\n",
              "      <td>2.848070e+05</td>\n",
              "      <td>2.848070e+05</td>\n",
              "      <td>...</td>\n",
              "      <td>2.848070e+05</td>\n",
              "      <td>2.848070e+05</td>\n",
              "      <td>2.848070e+05</td>\n",
              "      <td>2.848070e+05</td>\n",
              "      <td>2.848070e+05</td>\n",
              "      <td>2.848070e+05</td>\n",
              "      <td>2.848070e+05</td>\n",
              "      <td>2.848070e+05</td>\n",
              "      <td>284807.000000</td>\n",
              "      <td>284807.000000</td>\n",
              "    </tr>\n",
              "    <tr>\n",
              "      <th>mean</th>\n",
              "      <td>94813.859575</td>\n",
              "      <td>1.168375e-15</td>\n",
              "      <td>3.416908e-16</td>\n",
              "      <td>-1.379537e-15</td>\n",
              "      <td>2.074095e-15</td>\n",
              "      <td>9.604066e-16</td>\n",
              "      <td>1.487313e-15</td>\n",
              "      <td>-5.556467e-16</td>\n",
              "      <td>1.213481e-16</td>\n",
              "      <td>-2.406331e-15</td>\n",
              "      <td>...</td>\n",
              "      <td>1.654067e-16</td>\n",
              "      <td>-3.568593e-16</td>\n",
              "      <td>2.578648e-16</td>\n",
              "      <td>4.473266e-15</td>\n",
              "      <td>5.340915e-16</td>\n",
              "      <td>1.683437e-15</td>\n",
              "      <td>-3.660091e-16</td>\n",
              "      <td>-1.227390e-16</td>\n",
              "      <td>88.349619</td>\n",
              "      <td>0.001727</td>\n",
              "    </tr>\n",
              "    <tr>\n",
              "      <th>std</th>\n",
              "      <td>47488.145955</td>\n",
              "      <td>1.958696e+00</td>\n",
              "      <td>1.651309e+00</td>\n",
              "      <td>1.516255e+00</td>\n",
              "      <td>1.415869e+00</td>\n",
              "      <td>1.380247e+00</td>\n",
              "      <td>1.332271e+00</td>\n",
              "      <td>1.237094e+00</td>\n",
              "      <td>1.194353e+00</td>\n",
              "      <td>1.098632e+00</td>\n",
              "      <td>...</td>\n",
              "      <td>7.345240e-01</td>\n",
              "      <td>7.257016e-01</td>\n",
              "      <td>6.244603e-01</td>\n",
              "      <td>6.056471e-01</td>\n",
              "      <td>5.212781e-01</td>\n",
              "      <td>4.822270e-01</td>\n",
              "      <td>4.036325e-01</td>\n",
              "      <td>3.300833e-01</td>\n",
              "      <td>250.120109</td>\n",
              "      <td>0.041527</td>\n",
              "    </tr>\n",
              "    <tr>\n",
              "      <th>min</th>\n",
              "      <td>0.000000</td>\n",
              "      <td>-5.640751e+01</td>\n",
              "      <td>-7.271573e+01</td>\n",
              "      <td>-4.832559e+01</td>\n",
              "      <td>-5.683171e+00</td>\n",
              "      <td>-1.137433e+02</td>\n",
              "      <td>-2.616051e+01</td>\n",
              "      <td>-4.355724e+01</td>\n",
              "      <td>-7.321672e+01</td>\n",
              "      <td>-1.343407e+01</td>\n",
              "      <td>...</td>\n",
              "      <td>-3.483038e+01</td>\n",
              "      <td>-1.093314e+01</td>\n",
              "      <td>-4.480774e+01</td>\n",
              "      <td>-2.836627e+00</td>\n",
              "      <td>-1.029540e+01</td>\n",
              "      <td>-2.604551e+00</td>\n",
              "      <td>-2.256568e+01</td>\n",
              "      <td>-1.543008e+01</td>\n",
              "      <td>0.000000</td>\n",
              "      <td>0.000000</td>\n",
              "    </tr>\n",
              "    <tr>\n",
              "      <th>25%</th>\n",
              "      <td>54201.500000</td>\n",
              "      <td>-9.203734e-01</td>\n",
              "      <td>-5.985499e-01</td>\n",
              "      <td>-8.903648e-01</td>\n",
              "      <td>-8.486401e-01</td>\n",
              "      <td>-6.915971e-01</td>\n",
              "      <td>-7.682956e-01</td>\n",
              "      <td>-5.540759e-01</td>\n",
              "      <td>-2.086297e-01</td>\n",
              "      <td>-6.430976e-01</td>\n",
              "      <td>...</td>\n",
              "      <td>-2.283949e-01</td>\n",
              "      <td>-5.423504e-01</td>\n",
              "      <td>-1.618463e-01</td>\n",
              "      <td>-3.545861e-01</td>\n",
              "      <td>-3.171451e-01</td>\n",
              "      <td>-3.269839e-01</td>\n",
              "      <td>-7.083953e-02</td>\n",
              "      <td>-5.295979e-02</td>\n",
              "      <td>5.600000</td>\n",
              "      <td>0.000000</td>\n",
              "    </tr>\n",
              "    <tr>\n",
              "      <th>50%</th>\n",
              "      <td>84692.000000</td>\n",
              "      <td>1.810880e-02</td>\n",
              "      <td>6.548556e-02</td>\n",
              "      <td>1.798463e-01</td>\n",
              "      <td>-1.984653e-02</td>\n",
              "      <td>-5.433583e-02</td>\n",
              "      <td>-2.741871e-01</td>\n",
              "      <td>4.010308e-02</td>\n",
              "      <td>2.235804e-02</td>\n",
              "      <td>-5.142873e-02</td>\n",
              "      <td>...</td>\n",
              "      <td>-2.945017e-02</td>\n",
              "      <td>6.781943e-03</td>\n",
              "      <td>-1.119293e-02</td>\n",
              "      <td>4.097606e-02</td>\n",
              "      <td>1.659350e-02</td>\n",
              "      <td>-5.213911e-02</td>\n",
              "      <td>1.342146e-03</td>\n",
              "      <td>1.124383e-02</td>\n",
              "      <td>22.000000</td>\n",
              "      <td>0.000000</td>\n",
              "    </tr>\n",
              "    <tr>\n",
              "      <th>75%</th>\n",
              "      <td>139320.500000</td>\n",
              "      <td>1.315642e+00</td>\n",
              "      <td>8.037239e-01</td>\n",
              "      <td>1.027196e+00</td>\n",
              "      <td>7.433413e-01</td>\n",
              "      <td>6.119264e-01</td>\n",
              "      <td>3.985649e-01</td>\n",
              "      <td>5.704361e-01</td>\n",
              "      <td>3.273459e-01</td>\n",
              "      <td>5.971390e-01</td>\n",
              "      <td>...</td>\n",
              "      <td>1.863772e-01</td>\n",
              "      <td>5.285536e-01</td>\n",
              "      <td>1.476421e-01</td>\n",
              "      <td>4.395266e-01</td>\n",
              "      <td>3.507156e-01</td>\n",
              "      <td>2.409522e-01</td>\n",
              "      <td>9.104512e-02</td>\n",
              "      <td>7.827995e-02</td>\n",
              "      <td>77.165000</td>\n",
              "      <td>0.000000</td>\n",
              "    </tr>\n",
              "    <tr>\n",
              "      <th>max</th>\n",
              "      <td>172792.000000</td>\n",
              "      <td>2.454930e+00</td>\n",
              "      <td>2.205773e+01</td>\n",
              "      <td>9.382558e+00</td>\n",
              "      <td>1.687534e+01</td>\n",
              "      <td>3.480167e+01</td>\n",
              "      <td>7.330163e+01</td>\n",
              "      <td>1.205895e+02</td>\n",
              "      <td>2.000721e+01</td>\n",
              "      <td>1.559499e+01</td>\n",
              "      <td>...</td>\n",
              "      <td>2.720284e+01</td>\n",
              "      <td>1.050309e+01</td>\n",
              "      <td>2.252841e+01</td>\n",
              "      <td>4.584549e+00</td>\n",
              "      <td>7.519589e+00</td>\n",
              "      <td>3.517346e+00</td>\n",
              "      <td>3.161220e+01</td>\n",
              "      <td>3.384781e+01</td>\n",
              "      <td>25691.160000</td>\n",
              "      <td>1.000000</td>\n",
              "    </tr>\n",
              "  </tbody>\n",
              "</table>\n",
              "<p>8 rows × 31 columns</p>\n",
              "</div>\n",
              "      <button class=\"colab-df-convert\" onclick=\"convertToInteractive('df-6dd9e47d-685e-45c6-8734-d611e7ce4665')\"\n",
              "              title=\"Convert this dataframe to an interactive table.\"\n",
              "              style=\"display:none;\">\n",
              "        \n",
              "  <svg xmlns=\"http://www.w3.org/2000/svg\" height=\"24px\"viewBox=\"0 0 24 24\"\n",
              "       width=\"24px\">\n",
              "    <path d=\"M0 0h24v24H0V0z\" fill=\"none\"/>\n",
              "    <path d=\"M18.56 5.44l.94 2.06.94-2.06 2.06-.94-2.06-.94-.94-2.06-.94 2.06-2.06.94zm-11 1L8.5 8.5l.94-2.06 2.06-.94-2.06-.94L8.5 2.5l-.94 2.06-2.06.94zm10 10l.94 2.06.94-2.06 2.06-.94-2.06-.94-.94-2.06-.94 2.06-2.06.94z\"/><path d=\"M17.41 7.96l-1.37-1.37c-.4-.4-.92-.59-1.43-.59-.52 0-1.04.2-1.43.59L10.3 9.45l-7.72 7.72c-.78.78-.78 2.05 0 2.83L4 21.41c.39.39.9.59 1.41.59.51 0 1.02-.2 1.41-.59l7.78-7.78 2.81-2.81c.8-.78.8-2.07 0-2.86zM5.41 20L4 18.59l7.72-7.72 1.47 1.35L5.41 20z\"/>\n",
              "  </svg>\n",
              "      </button>\n",
              "      \n",
              "  <style>\n",
              "    .colab-df-container {\n",
              "      display:flex;\n",
              "      flex-wrap:wrap;\n",
              "      gap: 12px;\n",
              "    }\n",
              "\n",
              "    .colab-df-convert {\n",
              "      background-color: #E8F0FE;\n",
              "      border: none;\n",
              "      border-radius: 50%;\n",
              "      cursor: pointer;\n",
              "      display: none;\n",
              "      fill: #1967D2;\n",
              "      height: 32px;\n",
              "      padding: 0 0 0 0;\n",
              "      width: 32px;\n",
              "    }\n",
              "\n",
              "    .colab-df-convert:hover {\n",
              "      background-color: #E2EBFA;\n",
              "      box-shadow: 0px 1px 2px rgba(60, 64, 67, 0.3), 0px 1px 3px 1px rgba(60, 64, 67, 0.15);\n",
              "      fill: #174EA6;\n",
              "    }\n",
              "\n",
              "    [theme=dark] .colab-df-convert {\n",
              "      background-color: #3B4455;\n",
              "      fill: #D2E3FC;\n",
              "    }\n",
              "\n",
              "    [theme=dark] .colab-df-convert:hover {\n",
              "      background-color: #434B5C;\n",
              "      box-shadow: 0px 1px 3px 1px rgba(0, 0, 0, 0.15);\n",
              "      filter: drop-shadow(0px 1px 2px rgba(0, 0, 0, 0.3));\n",
              "      fill: #FFFFFF;\n",
              "    }\n",
              "  </style>\n",
              "\n",
              "      <script>\n",
              "        const buttonEl =\n",
              "          document.querySelector('#df-6dd9e47d-685e-45c6-8734-d611e7ce4665 button.colab-df-convert');\n",
              "        buttonEl.style.display =\n",
              "          google.colab.kernel.accessAllowed ? 'block' : 'none';\n",
              "\n",
              "        async function convertToInteractive(key) {\n",
              "          const element = document.querySelector('#df-6dd9e47d-685e-45c6-8734-d611e7ce4665');\n",
              "          const dataTable =\n",
              "            await google.colab.kernel.invokeFunction('convertToInteractive',\n",
              "                                                     [key], {});\n",
              "          if (!dataTable) return;\n",
              "\n",
              "          const docLinkHtml = 'Like what you see? Visit the ' +\n",
              "            '<a target=\"_blank\" href=https://colab.research.google.com/notebooks/data_table.ipynb>data table notebook</a>'\n",
              "            + ' to learn more about interactive tables.';\n",
              "          element.innerHTML = '';\n",
              "          dataTable['output_type'] = 'display_data';\n",
              "          await google.colab.output.renderOutput(dataTable, element);\n",
              "          const docLink = document.createElement('div');\n",
              "          docLink.innerHTML = docLinkHtml;\n",
              "          element.appendChild(docLink);\n",
              "        }\n",
              "      </script>\n",
              "    </div>\n",
              "  </div>\n",
              "  "
            ]
          },
          "metadata": {},
          "execution_count": 5
        }
      ],
      "source": [
        "data.describe(include = 'all')"
      ]
    },
    {
      "cell_type": "markdown",
      "id": "ac6d1848",
      "metadata": {
        "papermill": {
          "duration": 0.008859,
          "end_time": "2022-08-16T21:54:29.299800",
          "exception": false,
          "start_time": "2022-08-16T21:54:29.290941",
          "status": "completed"
        },
        "tags": [],
        "id": "ac6d1848"
      },
      "source": [
        "# Checking Missing values and Some EDA"
      ]
    },
    {
      "cell_type": "code",
      "execution_count": 6,
      "id": "59999bb1",
      "metadata": {
        "execution": {
          "iopub.execute_input": "2022-08-16T21:54:29.320456Z",
          "iopub.status.busy": "2022-08-16T21:54:29.320042Z",
          "iopub.status.idle": "2022-08-16T21:54:29.346485Z",
          "shell.execute_reply": "2022-08-16T21:54:29.345331Z"
        },
        "papermill": {
          "duration": 0.041435,
          "end_time": "2022-08-16T21:54:29.350011",
          "exception": false,
          "start_time": "2022-08-16T21:54:29.308576",
          "status": "completed"
        },
        "tags": [],
        "colab": {
          "base_uri": "https://localhost:8080/"
        },
        "id": "59999bb1",
        "outputId": "92dc151d-a8b8-4c9d-8b5f-5fb7aa695a5b"
      },
      "outputs": [
        {
          "output_type": "execute_result",
          "data": {
            "text/plain": [
              "Time      0\n",
              "V1        0\n",
              "V2        0\n",
              "V3        0\n",
              "V4        0\n",
              "V5        0\n",
              "V6        0\n",
              "V7        0\n",
              "V8        0\n",
              "V9        0\n",
              "V10       0\n",
              "V11       0\n",
              "V12       0\n",
              "V13       0\n",
              "V14       0\n",
              "V15       0\n",
              "V16       0\n",
              "V17       0\n",
              "V18       0\n",
              "V19       0\n",
              "V20       0\n",
              "V21       0\n",
              "V22       0\n",
              "V23       0\n",
              "V24       0\n",
              "V25       0\n",
              "V26       0\n",
              "V27       0\n",
              "V28       0\n",
              "Amount    0\n",
              "Class     0\n",
              "dtype: int64"
            ]
          },
          "metadata": {},
          "execution_count": 6
        }
      ],
      "source": [
        "data.isnull().sum()"
      ]
    },
    {
      "cell_type": "markdown",
      "id": "8c7775d7",
      "metadata": {
        "papermill": {
          "duration": 0.009206,
          "end_time": "2022-08-16T21:54:29.369050",
          "exception": false,
          "start_time": "2022-08-16T21:54:29.359844",
          "status": "completed"
        },
        "tags": [],
        "id": "8c7775d7"
      },
      "source": [
        "**We have read the description of the dataset and we know that this dataset is imbalance. Let's just check once.**"
      ]
    },
    {
      "cell_type": "code",
      "execution_count": 7,
      "id": "d01b967e",
      "metadata": {
        "execution": {
          "iopub.execute_input": "2022-08-16T21:54:29.389654Z",
          "iopub.status.busy": "2022-08-16T21:54:29.388872Z",
          "iopub.status.idle": "2022-08-16T21:54:29.640823Z",
          "shell.execute_reply": "2022-08-16T21:54:29.639545Z"
        },
        "papermill": {
          "duration": 0.265628,
          "end_time": "2022-08-16T21:54:29.643927",
          "exception": false,
          "start_time": "2022-08-16T21:54:29.378299",
          "status": "completed"
        },
        "tags": [],
        "colab": {
          "base_uri": "https://localhost:8080/",
          "height": 296
        },
        "id": "d01b967e",
        "outputId": "d5e6152d-eca8-40a3-ffc2-6407ed6a7c4f"
      },
      "outputs": [
        {
          "output_type": "execute_result",
          "data": {
            "text/plain": [
              "<matplotlib.axes._subplots.AxesSubplot at 0x7f05b8ffdf90>"
            ]
          },
          "metadata": {},
          "execution_count": 7
        },
        {
          "output_type": "display_data",
          "data": {
            "text/plain": [
              "<Figure size 432x288 with 1 Axes>"
            ],
            "image/png": "[encoded data removed]"
          },
          "metadata": {}
        }
      ],
      "source": [
        "import seaborn as sns\n",
        "sns.countplot(x = data['Class'])"
      ]
    },
    {
      "cell_type": "markdown",
      "id": "b7e9bc1e",
      "metadata": {
        "papermill": {
          "duration": 0.009017,
          "end_time": "2022-08-16T21:54:29.662394",
          "exception": false,
          "start_time": "2022-08-16T21:54:29.653377",
          "status": "completed"
        },
        "tags": [],
        "id": "b7e9bc1e"
      },
      "source": [
        "**See I said about this above. If we don't balance the data definitely we will get accuracy = 1. Which is wrong. We need to balance the data. Let's fix this.**"
      ]
    },
    {
      "cell_type": "code",
      "execution_count": 8,
      "id": "35373912",
      "metadata": {
        "execution": {
          "iopub.execute_input": "2022-08-16T21:54:29.684387Z",
          "iopub.status.busy": "2022-08-16T21:54:29.683502Z",
          "iopub.status.idle": "2022-08-16T21:54:29.696599Z",
          "shell.execute_reply": "2022-08-16T21:54:29.695388Z"
        },
        "papermill": {
          "duration": 0.026777,
          "end_time": "2022-08-16T21:54:29.699223",
          "exception": false,
          "start_time": "2022-08-16T21:54:29.672446",
          "status": "completed"
        },
        "tags": [],
        "colab": {
          "base_uri": "https://localhost:8080/"
        },
        "id": "35373912",
        "outputId": "9413893d-86a6-44e0-b0b2-cb135cda102f"
      },
      "outputs": [
        {
          "output_type": "execute_result",
          "data": {
            "text/plain": [
              "0    284315\n",
              "1       492\n",
              "Name: Class, dtype: int64"
            ]
          },
          "metadata": {},
          "execution_count": 8
        }
      ],
      "source": [
        "data['Class'].value_counts()"
      ]
    },
    {
      "cell_type": "code",
      "execution_count": 9,
      "id": "092b75fc",
      "metadata": {
        "execution": {
          "iopub.execute_input": "2022-08-16T21:54:29.721635Z",
          "iopub.status.busy": "2022-08-16T21:54:29.720716Z",
          "iopub.status.idle": "2022-08-16T21:54:30.033906Z",
          "shell.execute_reply": "2022-08-16T21:54:30.032497Z"
        },
        "papermill": {
          "duration": 0.327699,
          "end_time": "2022-08-16T21:54:30.037234",
          "exception": false,
          "start_time": "2022-08-16T21:54:29.709535",
          "status": "completed"
        },
        "tags": [],
        "id": "092b75fc"
      },
      "outputs": [],
      "source": [
        "from sklearn.utils import resample\n",
        "#create two different dataframe of majority and minority class \n",
        "df_majority = data[(data['Class']==0)] \n",
        "df_minority = data[(data['Class']==1)] \n",
        "# upsample minority class\n",
        "df_minority_upsampled = resample(df_minority, \n",
        "                                 replace=True,    # sample with replacement\n",
        "                                 n_samples= 284315, # to match majority class\n",
        "                                 random_state=42)  # reproducible results\n",
        "# Combine majority class with upsampled minority class\n",
        "df = pd.concat([df_minority_upsampled, df_majority])"
      ]
    },
    {
      "cell_type": "code",
      "execution_count": 10,
      "id": "97246a23",
      "metadata": {
        "execution": {
          "iopub.execute_input": "2022-08-16T21:54:30.058179Z",
          "iopub.status.busy": "2022-08-16T21:54:30.057704Z",
          "iopub.status.idle": "2022-08-16T21:54:30.318219Z",
          "shell.execute_reply": "2022-08-16T21:54:30.316762Z"
        },
        "papermill": {
          "duration": 0.274475,
          "end_time": "2022-08-16T21:54:30.321308",
          "exception": false,
          "start_time": "2022-08-16T21:54:30.046833",
          "status": "completed"
        },
        "tags": [],
        "colab": {
          "base_uri": "https://localhost:8080/",
          "height": 296
        },
        "id": "97246a23",
        "outputId": "bdf8a9f4-4217-4abc-9620-fff68974e8ca"
      },
      "outputs": [
        {
          "output_type": "execute_result",
          "data": {
            "text/plain": [
              "<matplotlib.axes._subplots.AxesSubplot at 0x7f05b84b6ed0>"
            ]
          },
          "metadata": {},
          "execution_count": 10
        },
        {
          "output_type": "display_data",
          "data": {
            "text/plain": [
              "<Figure size 432x288 with 1 Axes>"
            ],
            "image/png": "[encoded data removed]"
          },
          "metadata": {}
        }
      ],
      "source": [
        "sns.countplot(x = df['Class'])"
      ]
    },
    {
      "cell_type": "markdown",
      "id": "2dcc7740",
      "metadata": {
        "papermill": {
          "duration": 0.009353,
          "end_time": "2022-08-16T21:54:30.340602",
          "exception": false,
          "start_time": "2022-08-16T21:54:30.331249",
          "status": "completed"
        },
        "tags": [],
        "id": "2dcc7740"
      },
      "source": [
        "**Now we have resampled our data**"
      ]
    },
    {
      "cell_type": "code",
      "execution_count": 11,
      "id": "fa24649b",
      "metadata": {
        "execution": {
          "iopub.execute_input": "2022-08-16T21:54:30.362748Z",
          "iopub.status.busy": "2022-08-16T21:54:30.361551Z",
          "iopub.status.idle": "2022-08-16T21:54:30.375336Z",
          "shell.execute_reply": "2022-08-16T21:54:30.374460Z"
        },
        "papermill": {
          "duration": 0.027352,
          "end_time": "2022-08-16T21:54:30.377804",
          "exception": false,
          "start_time": "2022-08-16T21:54:30.350452",
          "status": "completed"
        },
        "tags": [],
        "colab": {
          "base_uri": "https://localhost:8080/"
        },
        "id": "fa24649b",
        "outputId": "736b4615-60ae-4b4a-ee6c-0f46899cb8a4"
      },
      "outputs": [
        {
          "output_type": "execute_result",
          "data": {
            "text/plain": [
              "1    284315\n",
              "0    284315\n",
              "Name: Class, dtype: int64"
            ]
          },
          "metadata": {},
          "execution_count": 11
        }
      ],
      "source": [
        "df['Class'].value_counts()"
      ]
    },
    {
      "cell_type": "markdown",
      "id": "10c2e057",
      "metadata": {
        "papermill": {
          "duration": 0.009594,
          "end_time": "2022-08-16T21:54:30.397630",
          "exception": false,
          "start_time": "2022-08-16T21:54:30.388036",
          "status": "completed"
        },
        "tags": [],
        "id": "10c2e057"
      },
      "source": [
        "# Data split"
      ]
    },
    {
      "cell_type": "code",
      "execution_count": 12,
      "id": "f1252855",
      "metadata": {
        "execution": {
          "iopub.execute_input": "2022-08-16T21:54:30.420524Z",
          "iopub.status.busy": "2022-08-16T21:54:30.420117Z",
          "iopub.status.idle": "2022-08-16T21:54:30.485947Z",
          "shell.execute_reply": "2022-08-16T21:54:30.484647Z"
        },
        "papermill": {
          "duration": 0.080966,
          "end_time": "2022-08-16T21:54:30.488561",
          "exception": false,
          "start_time": "2022-08-16T21:54:30.407595",
          "status": "completed"
        },
        "tags": [],
        "id": "f1252855"
      },
      "outputs": [],
      "source": [
        "X = df.drop('Class', axis = 1)\n",
        "y = df['Class']"
      ]
    },
    {
      "cell_type": "code",
      "execution_count": 13,
      "id": "af4e1cc2",
      "metadata": {
        "execution": {
          "iopub.execute_input": "2022-08-16T21:54:30.510060Z",
          "iopub.status.busy": "2022-08-16T21:54:30.509634Z",
          "iopub.status.idle": "2022-08-16T21:54:30.866312Z",
          "shell.execute_reply": "2022-08-16T21:54:30.865282Z"
        },
        "papermill": {
          "duration": 0.371229,
          "end_time": "2022-08-16T21:54:30.869628",
          "exception": false,
          "start_time": "2022-08-16T21:54:30.498399",
          "status": "completed"
        },
        "tags": [],
        "id": "af4e1cc2"
      },
      "outputs": [],
      "source": [
        "from sklearn.model_selection import train_test_split\n",
        "\n",
        "X_train, X_test, y_train, y_test = train_test_split(X, y, test_size=0.2, random_state=2529)"
      ]
    },
    {
      "cell_type": "code",
      "execution_count": 14,
      "id": "30c5db4e",
      "metadata": {
        "execution": {
          "iopub.execute_input": "2022-08-16T21:54:30.891872Z",
          "iopub.status.busy": "2022-08-16T21:54:30.891114Z",
          "iopub.status.idle": "2022-08-16T21:54:30.898965Z",
          "shell.execute_reply": "2022-08-16T21:54:30.897907Z"
        },
        "papermill": {
          "duration": 0.021556,
          "end_time": "2022-08-16T21:54:30.901337",
          "exception": false,
          "start_time": "2022-08-16T21:54:30.879781",
          "status": "completed"
        },
        "tags": [],
        "colab": {
          "base_uri": "https://localhost:8080/"
        },
        "id": "30c5db4e",
        "outputId": "ef256bed-bde4-4011-d2d2-13b93002e989"
      },
      "outputs": [
        {
          "output_type": "execute_result",
          "data": {
            "text/plain": [
              "((454904, 30), (113726, 30), (454904,), (113726,))"
            ]
          },
          "metadata": {},
          "execution_count": 14
        }
      ],
      "source": [
        "X_train.shape, X_test.shape, y_train.shape, y_test.shape"
      ]
    },
    {
      "cell_type": "markdown",
      "id": "f139804d",
      "metadata": {
        "papermill": {
          "duration": 0.009613,
          "end_time": "2022-08-16T21:54:30.921039",
          "exception": false,
          "start_time": "2022-08-16T21:54:30.911426",
          "status": "completed"
        },
        "tags": [],
        "id": "f139804d"
      },
      "source": [
        "# Scaling"
      ]
    },
    {
      "cell_type": "code",
      "execution_count": 15,
      "id": "24747f5e",
      "metadata": {
        "execution": {
          "iopub.execute_input": "2022-08-16T21:54:30.944574Z",
          "iopub.status.busy": "2022-08-16T21:54:30.943782Z",
          "iopub.status.idle": "2022-08-16T21:54:30.948449Z",
          "shell.execute_reply": "2022-08-16T21:54:30.947537Z"
        },
        "papermill": {
          "duration": 0.019176,
          "end_time": "2022-08-16T21:54:30.950897",
          "exception": false,
          "start_time": "2022-08-16T21:54:30.931721",
          "status": "completed"
        },
        "tags": [],
        "id": "24747f5e"
      },
      "outputs": [],
      "source": [
        "from sklearn.preprocessing import StandardScaler\n",
        "ss = StandardScaler()"
      ]
    },
    {
      "cell_type": "code",
      "execution_count": 16,
      "id": "3802eb02",
      "metadata": {
        "execution": {
          "iopub.execute_input": "2022-08-16T21:54:30.973472Z",
          "iopub.status.busy": "2022-08-16T21:54:30.972695Z",
          "iopub.status.idle": "2022-08-16T21:54:31.240496Z",
          "shell.execute_reply": "2022-08-16T21:54:31.239174Z"
        },
        "papermill": {
          "duration": 0.282324,
          "end_time": "2022-08-16T21:54:31.243703",
          "exception": false,
          "start_time": "2022-08-16T21:54:30.961379",
          "status": "completed"
        },
        "tags": [],
        "id": "3802eb02"
      },
      "outputs": [],
      "source": [
        "X_train = ss.fit_transform(X_train)\n",
        "X_test = ss.fit_transform(X_test)"
      ]
    },
    {
      "cell_type": "markdown",
      "id": "98a4cbe6",
      "metadata": {
        "papermill": {
          "duration": 0.009661,
          "end_time": "2022-08-16T21:54:31.263950",
          "exception": false,
          "start_time": "2022-08-16T21:54:31.254289",
          "status": "completed"
        },
        "tags": [],
        "id": "98a4cbe6"
      },
      "source": [
        "# Dimensionality Reduction"
      ]
    },
    {
      "cell_type": "code",
      "execution_count": 17,
      "id": "5e8d0216",
      "metadata": {
        "execution": {
          "iopub.execute_input": "2022-08-16T21:54:31.285811Z",
          "iopub.status.busy": "2022-08-16T21:54:31.285265Z",
          "iopub.status.idle": "2022-08-16T21:54:31.406119Z",
          "shell.execute_reply": "2022-08-16T21:54:31.404451Z"
        },
        "papermill": {
          "duration": 0.135405,
          "end_time": "2022-08-16T21:54:31.409260",
          "exception": false,
          "start_time": "2022-08-16T21:54:31.273855",
          "status": "completed"
        },
        "tags": [],
        "id": "5e8d0216"
      },
      "outputs": [],
      "source": [
        "from sklearn.decomposition import PCA\n",
        "\n",
        "pca = PCA()"
      ]
    },
    {
      "cell_type": "code",
      "execution_count": 18,
      "id": "769bacac",
      "metadata": {
        "execution": {
          "iopub.execute_input": "2022-08-16T21:54:31.433279Z",
          "iopub.status.busy": "2022-08-16T21:54:31.431932Z",
          "iopub.status.idle": "2022-08-16T21:54:32.422526Z",
          "shell.execute_reply": "2022-08-16T21:54:32.420789Z"
        },
        "papermill": {
          "duration": 1.008489,
          "end_time": "2022-08-16T21:54:32.428119",
          "exception": false,
          "start_time": "2022-08-16T21:54:31.419630",
          "status": "completed"
        },
        "tags": [],
        "id": "769bacac"
      },
      "outputs": [],
      "source": [
        "X_train = pca.fit_transform(X_train)\n",
        "X_test = pca.fit_transform(X_test)"
      ]
    },
    {
      "cell_type": "code",
      "execution_count": 19,
      "id": "449626da",
      "metadata": {
        "execution": {
          "iopub.execute_input": "2022-08-16T21:54:32.481264Z",
          "iopub.status.busy": "2022-08-16T21:54:32.480504Z",
          "iopub.status.idle": "2022-08-16T21:54:32.500272Z",
          "shell.execute_reply": "2022-08-16T21:54:32.498712Z"
        },
        "papermill": {
          "duration": 0.051694,
          "end_time": "2022-08-16T21:54:32.505149",
          "exception": false,
          "start_time": "2022-08-16T21:54:32.453455",
          "status": "completed"
        },
        "tags": [],
        "colab": {
          "base_uri": "https://localhost:8080/"
        },
        "id": "449626da",
        "outputId": "15bfbfa6-2a28-4529-cef9-472b306d7e2e"
      },
      "outputs": [
        {
          "output_type": "execute_result",
          "data": {
            "text/plain": [
              "array([3.78848346e-01, 9.87290870e-02, 7.06227726e-02, 5.47054984e-02,\n",
              "       5.19718045e-02, 4.05350661e-02, 3.75093071e-02, 3.60413194e-02,\n",
              "       3.12467948e-02, 2.78863909e-02, 2.71039003e-02, 2.28766940e-02,\n",
              "       2.04143403e-02, 1.82555978e-02, 1.46637509e-02, 1.31929382e-02,\n",
              "       1.09221496e-02, 8.64802714e-03, 7.69968771e-03, 5.74088275e-03,\n",
              "       4.89391806e-03, 4.04347556e-03, 2.76628306e-03, 2.73467991e-03,\n",
              "       2.01925030e-03, 1.80771183e-03, 1.54461409e-03, 1.38702556e-03,\n",
              "       8.80903141e-04, 3.07783406e-04])"
            ]
          },
          "metadata": {},
          "execution_count": 19
        }
      ],
      "source": [
        "ev = pca.explained_variance_ratio_\n",
        "ev"
      ]
    },
    {
      "cell_type": "markdown",
      "id": "d03519f9",
      "metadata": {
        "papermill": {
          "duration": 0.009551,
          "end_time": "2022-08-16T21:54:32.532997",
          "exception": false,
          "start_time": "2022-08-16T21:54:32.523446",
          "status": "completed"
        },
        "tags": [],
        "id": "d03519f9"
      },
      "source": [
        "# Decision Tree"
      ]
    },
    {
      "cell_type": "code",
      "execution_count": 20,
      "id": "c929fdcf",
      "metadata": {
        "execution": {
          "iopub.execute_input": "2022-08-16T21:54:32.554596Z",
          "iopub.status.busy": "2022-08-16T21:54:32.554078Z",
          "iopub.status.idle": "2022-08-16T21:55:06.231300Z",
          "shell.execute_reply": "2022-08-16T21:55:06.229881Z"
        },
        "papermill": {
          "duration": 33.691533,
          "end_time": "2022-08-16T21:55:06.234465",
          "exception": false,
          "start_time": "2022-08-16T21:54:32.542932",
          "status": "completed"
        },
        "tags": [],
        "id": "c929fdcf"
      },
      "outputs": [],
      "source": [
        "from sklearn.tree import DecisionTreeClassifier\n",
        "\n",
        "dt = DecisionTreeClassifier()\n",
        "dt.fit(X_train,y_train)\n",
        "pred_dt = dt.predict(X_test)"
      ]
    },
    {
      "cell_type": "markdown",
      "id": "2b9903a0",
      "metadata": {
        "papermill": {
          "duration": 0.009438,
          "end_time": "2022-08-16T21:55:06.254405",
          "exception": false,
          "start_time": "2022-08-16T21:55:06.244967",
          "status": "completed"
        },
        "tags": [],
        "id": "2b9903a0"
      },
      "source": [
        "# Results"
      ]
    },
    {
      "cell_type": "code",
      "execution_count": 21,
      "id": "e25e2aa6",
      "metadata": {
        "execution": {
          "iopub.execute_input": "2022-08-16T21:55:06.277309Z",
          "iopub.status.busy": "2022-08-16T21:55:06.276091Z",
          "iopub.status.idle": "2022-08-16T21:55:06.573982Z",
          "shell.execute_reply": "2022-08-16T21:55:06.572739Z"
        },
        "papermill": {
          "duration": 0.312114,
          "end_time": "2022-08-16T21:55:06.576948",
          "exception": false,
          "start_time": "2022-08-16T21:55:06.264834",
          "status": "completed"
        },
        "tags": [],
        "colab": {
          "base_uri": "https://localhost:8080/"
        },
        "id": "e25e2aa6",
        "outputId": "07c2f926-14d8-4f04-e830-07d6bc01fdc5"
      },
      "outputs": [
        {
          "output_type": "stream",
          "name": "stdout",
          "text": [
            "              precision    recall  f1-score   support\n",
            "\n",
            "           0       0.81      1.00      0.89     57006\n",
            "           1       1.00      0.76      0.86     56720\n",
            "\n",
            "    accuracy                           0.88    113726\n",
            "   macro avg       0.90      0.88      0.88    113726\n",
            "weighted avg       0.90      0.88      0.88    113726\n",
            "\n",
            "[[56918    88]\n",
            " [13497 43223]]\n"
          ]
        }
      ],
      "source": [
        "from sklearn.metrics import classification_report, confusion_matrix\n",
        "print(classification_report(y_test,pred_dt))\n",
        "print(confusion_matrix(y_test,pred_dt))\n",
        "cm = confusion_matrix(y_test,pred_dt)"
      ]
    },
    {
      "cell_type": "code",
      "execution_count": 22,
      "id": "e0a18813",
      "metadata": {
        "execution": {
          "iopub.execute_input": "2022-08-16T21:55:06.600223Z",
          "iopub.status.busy": "2022-08-16T21:55:06.599050Z",
          "iopub.status.idle": "2022-08-16T21:55:06.773168Z",
          "shell.execute_reply": "2022-08-16T21:55:06.771625Z"
        },
        "papermill": {
          "duration": 0.189862,
          "end_time": "2022-08-16T21:55:06.777000",
          "exception": false,
          "start_time": "2022-08-16T21:55:06.587138",
          "status": "completed"
        },
        "tags": [],
        "colab": {
          "base_uri": "https://localhost:8080/",
          "height": 391
        },
        "id": "e0a18813",
        "outputId": "e9a11c70-4123-4cbb-d44f-468dcf88c6d8"
      },
      "outputs": [
        {
          "output_type": "execute_result",
          "data": {
            "text/plain": [
              "<matplotlib.axes._subplots.AxesSubplot at 0x7f05b538f8d0>"
            ]
          },
          "metadata": {},
          "execution_count": 22
        },
        {
          "output_type": "display_data",
          "data": {
            "text/plain": [
              "<Figure size 576x432 with 1 Axes>"
            ],
            "image/png": "[encoded data removed]"
          },
          "metadata": {}
        }
      ],
      "source": [
        "plt.figure(figsize = (8,6))\n",
        "sns.heatmap(cm,annot = True,cbar = False, fmt = 'g')"
      ]
    },
    {
      "cell_type": "markdown",
      "id": "7f27bfa5",
      "metadata": {
        "papermill": {
          "duration": 0.010321,
          "end_time": "2022-08-16T21:55:06.805845",
          "exception": false,
          "start_time": "2022-08-16T21:55:06.795524",
          "status": "completed"
        },
        "tags": [],
        "id": "7f27bfa5"
      },
      "source": [
        "# End Note"
      ]
    },
    {
      "cell_type": "markdown",
      "id": "d70c3454",
      "metadata": {
        "papermill": {
          "duration": 0.00988,
          "end_time": "2022-08-16T21:55:06.828411",
          "exception": false,
          "start_time": "2022-08-16T21:55:06.818531",
          "status": "completed"
        },
        "tags": [],
        "id": "d70c3454"
      },
      "source": [
        "**Accuracy may increase depending on the model you have chosen. I just showed this on Decision Tree it was fast and more accurate than Logistic Regression. Logistic Regression gave accuracy of 84%. If you go with Neural Networks it may or may not give you more better accuracy. So yeah it depends on your model.**\n",
        "\n",
        "**Guys if you have suggetion for me please let me know in the comments. Please upvote and keep supporting.**"
      ]
    }
  ],
  "metadata": {
    "kernelspec": {
      "display_name": "Python 3",
      "language": "python",
      "name": "python3"
    },
    "language_info": {
      "codemirror_mode": {
        "name": "ipython",
        "version": 3
      },
      "file_extension": ".py",
      "mimetype": "text/x-python",
      "name": "python",
      "nbconvert_exporter": "python",
      "pygments_lexer": "ipython3",
      "version": "3.7.12"
    },
    "papermill": {
      "default_parameters": {},
      "duration": 55.4124,
      "end_time": "2022-08-16T21:55:07.672865",
      "environment_variables": {},
      "exception": null,
      "input_path": "__notebook__.ipynb",
      "output_path": "__notebook__.ipynb",
      "parameters": {},
      "start_time": "2022-08-16T21:54:12.260465",
      "version": "2.3.4"
    },
    "colab": {
      "name": "credit card fraud detection.ipynb",
      "provenance": []
    }
  },
  "nbformat": 4,
  "nbformat_minor": 5
}